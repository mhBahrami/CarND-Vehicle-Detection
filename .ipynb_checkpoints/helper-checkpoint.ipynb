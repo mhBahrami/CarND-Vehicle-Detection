{
 "cells": [
  {
   "cell_type": "code",
   "execution_count": 41,
   "metadata": {},
   "outputs": [],
   "source": [
    "import cv2\n",
    "import numpy as np\n",
    "import os\n",
    "import glob\n",
    "import random\n",
    "from sys import stdout"
   ]
  },
  {
   "cell_type": "code",
   "execution_count": 3,
   "metadata": {},
   "outputs": [
    {
     "name": "stdout",
     "output_type": "stream",
     "text": [
      "['project_video.mp4' 'test_video.mp4']\n"
     ]
    }
   ],
   "source": [
    "videos = np.array(glob.glob('*.mp4'))\n",
    "print(videos)"
   ]
  },
  {
   "cell_type": "code",
   "execution_count": 24,
   "metadata": {},
   "outputs": [
    {
     "name": "stdout",
     "output_type": "stream",
     "text": [
      "Count (30): ./extera-video-data/frames/frame_0.jpg\n",
      "Count (60): ./extera-video-data/frames/frame_1.jpg\n",
      "Count (90): ./extera-video-data/frames/frame_2.jpg\n",
      "Count (120): ./extera-video-data/frames/frame_3.jpg\n",
      "Count (150): ./extera-video-data/frames/frame_4.jpg\n",
      "Count (180): ./extera-video-data/frames/frame_5.jpg\n",
      "Count (210): ./extera-video-data/frames/frame_6.jpg\n",
      "Count (240): ./extera-video-data/frames/frame_7.jpg\n",
      "Count (270): ./extera-video-data/frames/frame_8.jpg\n",
      "Count (300): ./extera-video-data/frames/frame_9.jpg\n",
      "Count (330): ./extera-video-data/frames/frame_10.jpg\n",
      "Count (360): ./extera-video-data/frames/frame_11.jpg\n",
      "Count (390): ./extera-video-data/frames/frame_12.jpg\n",
      "Count (420): ./extera-video-data/frames/frame_13.jpg\n",
      "Count (450): ./extera-video-data/frames/frame_14.jpg\n",
      "Count (480): ./extera-video-data/frames/frame_15.jpg\n",
      "Count (510): ./extera-video-data/frames/frame_16.jpg\n",
      "Count (540): ./extera-video-data/frames/frame_17.jpg\n",
      "Count (570): ./extera-video-data/frames/frame_18.jpg\n",
      "Count (600): ./extera-video-data/frames/frame_19.jpg\n",
      "Count (630): ./extera-video-data/frames/frame_20.jpg\n",
      "Count (660): ./extera-video-data/frames/frame_21.jpg\n",
      "Count (690): ./extera-video-data/frames/frame_22.jpg\n",
      "Count (720): ./extera-video-data/frames/frame_23.jpg\n",
      "Count (750): ./extera-video-data/frames/frame_24.jpg\n",
      "Count (780): ./extera-video-data/frames/frame_25.jpg\n",
      "Count (810): ./extera-video-data/frames/frame_26.jpg\n",
      "Count (840): ./extera-video-data/frames/frame_27.jpg\n",
      "Count (870): ./extera-video-data/frames/frame_28.jpg\n",
      "Count (900): ./extera-video-data/frames/frame_29.jpg\n",
      "Count (930): ./extera-video-data/frames/frame_30.jpg\n",
      "Count (960): ./extera-video-data/frames/frame_31.jpg\n",
      "Count (990): ./extera-video-data/frames/frame_32.jpg\n",
      "Count (1020): ./extera-video-data/frames/frame_33.jpg\n",
      "Count (1050): ./extera-video-data/frames/frame_34.jpg\n",
      "Count (1080): ./extera-video-data/frames/frame_35.jpg\n",
      "Count (1110): ./extera-video-data/frames/frame_36.jpg\n",
      "Count (1140): ./extera-video-data/frames/frame_37.jpg\n",
      "Count (1170): ./extera-video-data/frames/frame_38.jpg\n",
      "Count (1200): ./extera-video-data/frames/frame_39.jpg\n",
      "Count (1230): ./extera-video-data/frames/frame_40.jpg\n"
     ]
    }
   ],
   "source": [
    "root = './extera-video-data'\n",
    "save_path = root+'/frames'\n",
    "try:\n",
    "    if not os.path.exists(save_path):\n",
    "        os.makedirs(save_path)\n",
    "except OSError:\n",
    "    print ('Error: Creating directory of data')\n",
    "\n",
    "currentFrame = 0\n",
    "count = 0\n",
    "\n",
    "# Playing video from file:\n",
    "cap = cv2.VideoCapture(videos[0])\n",
    "ret, frame = cap.read()\n",
    "while(ret):\n",
    "    count+=1\n",
    "    if(currentFrame == 50):\n",
    "        break\n",
    "        \n",
    "    # Capture frame-by-frame\n",
    "    ret, frame = cap.read()\n",
    "    if(count%30==0):\n",
    "        # Saves image of the current frame in jpg file\n",
    "        name = '{0:s}/frame_{1:d}.jpg'.format(save_path, currentFrame)\n",
    "        #name = save_path + '/frame_' + str(currentFrame) + '.jpg'\n",
    "        print ('Count ({0:d}): {1:s}'.format(count,name))\n",
    "        cv2.imwrite(name, frame)\n",
    "\n",
    "        # To stop duplicate images\n",
    "        currentFrame += 1\n",
    "\n",
    "# When everything done, release the capture\n",
    "cap.release()\n",
    "cv2.destroyAllWindows()"
   ]
  },
  {
   "cell_type": "code",
   "execution_count": 25,
   "metadata": {},
   "outputs": [
    {
     "name": "stdout",
     "output_type": "stream",
     "text": [
      "['./extera-video-data/frames\\\\frame_0.jpg'\n",
      " './extera-video-data/frames\\\\frame_1.jpg'\n",
      " './extera-video-data/frames\\\\frame_10.jpg'\n",
      " './extera-video-data/frames\\\\frame_11.jpg'\n",
      " './extera-video-data/frames\\\\frame_12.jpg'\n",
      " './extera-video-data/frames\\\\frame_13.jpg'\n",
      " './extera-video-data/frames\\\\frame_14.jpg'\n",
      " './extera-video-data/frames\\\\frame_15.jpg'\n",
      " './extera-video-data/frames\\\\frame_16.jpg'\n",
      " './extera-video-data/frames\\\\frame_17.jpg'\n",
      " './extera-video-data/frames\\\\frame_18.jpg'\n",
      " './extera-video-data/frames\\\\frame_19.jpg'\n",
      " './extera-video-data/frames\\\\frame_2.jpg'\n",
      " './extera-video-data/frames\\\\frame_20.jpg'\n",
      " './extera-video-data/frames\\\\frame_21.jpg'\n",
      " './extera-video-data/frames\\\\frame_22.jpg'\n",
      " './extera-video-data/frames\\\\frame_23.jpg'\n",
      " './extera-video-data/frames\\\\frame_24.jpg'\n",
      " './extera-video-data/frames\\\\frame_25.jpg'\n",
      " './extera-video-data/frames\\\\frame_26.jpg'\n",
      " './extera-video-data/frames\\\\frame_27.jpg'\n",
      " './extera-video-data/frames\\\\frame_28.jpg'\n",
      " './extera-video-data/frames\\\\frame_29.jpg'\n",
      " './extera-video-data/frames\\\\frame_3.jpg'\n",
      " './extera-video-data/frames\\\\frame_30.jpg'\n",
      " './extera-video-data/frames\\\\frame_31.jpg'\n",
      " './extera-video-data/frames\\\\frame_32.jpg'\n",
      " './extera-video-data/frames\\\\frame_33.jpg'\n",
      " './extera-video-data/frames\\\\frame_34.jpg'\n",
      " './extera-video-data/frames\\\\frame_35.jpg'\n",
      " './extera-video-data/frames\\\\frame_36.jpg'\n",
      " './extera-video-data/frames\\\\frame_37.jpg'\n",
      " './extera-video-data/frames\\\\frame_38.jpg'\n",
      " './extera-video-data/frames\\\\frame_39.jpg'\n",
      " './extera-video-data/frames\\\\frame_4.jpg'\n",
      " './extera-video-data/frames\\\\frame_40.jpg'\n",
      " './extera-video-data/frames\\\\frame_5.jpg'\n",
      " './extera-video-data/frames\\\\frame_6.jpg'\n",
      " './extera-video-data/frames\\\\frame_7.jpg'\n",
      " './extera-video-data/frames\\\\frame_8.jpg'\n",
      " './extera-video-data/frames\\\\frame_9.jpg']\n"
     ]
    }
   ],
   "source": [
    "frames = np.array(glob.glob(save_path+'/*.jpg'))\n",
    "print(frames)"
   ]
  },
  {
   "cell_type": "code",
   "execution_count": 27,
   "metadata": {},
   "outputs": [],
   "source": [
    "feature_car_path = '{0:s}/features/car'.format(root)\n",
    "try:\n",
    "    if not os.path.exists(feature_car_path):\n",
    "        os.makedirs(feature_car_path)\n",
    "except OSError:\n",
    "    print ('Error: Creating directory of data')\n",
    "    \n",
    "feature_ncar_path = '{0:s}/features/noncar'.format(root)\n",
    "try:\n",
    "    if not os.path.exists(feature_ncar_path):\n",
    "        os.makedirs(feature_ncar_path)\n",
    "except OSError:\n",
    "    print ('Error: Creating directory of data')"
   ]
  },
  {
   "cell_type": "code",
   "execution_count": 39,
   "metadata": {},
   "outputs": [],
   "source": [
    "def resize(img, new_size):\n",
    "    if(new_size is not None):\n",
    "        rows, cols, ch = img.shape\n",
    "        if (rows > cols):\n",
    "            r = float(new_size) / rows\n",
    "            dim = (int(cols * r), new_size)\n",
    "        else:\n",
    "            r = float(new_size) / cols\n",
    "            dim = (new_size, int(rows * r))\n",
    "        try:\n",
    "            img0 = cv2.resize(img, dim, interpolation = cv2.INTER_CUBIC)\n",
    "            rows, cols, ch = img0.shape\n",
    "            diff = abs(rows-cols)\n",
    "            img = np.zeros((new_size, new_size, ch), dtype=np.uint8)\n",
    "            if (rows > cols):\n",
    "                img[:,0:rows//2] = np.tile(img0[:,0].reshape(rows,1,3), (1, rows//2, 1))\n",
    "                img[:,rows//2:] = np.tile(img0[:,-1].reshape(rows,1,3), (1, rows-rows//2, 1))\n",
    "                img = cv2.medianBlur(img,25)\n",
    "                img[:,diff//2:cols+diff//2] = img0\n",
    "            else:\n",
    "                img[0:cols//2] = np.tile(img0[0], (cols//2, 1,1))\n",
    "                img[cols//2:] = np.tile(img0[-1], (cols-cols//2, 1,1))\n",
    "                img = cv2.medianBlur(img,25)\n",
    "                img[diff//2:rows+diff//2] = img0\n",
    "                \n",
    "        except Exception:\n",
    "            print('\\n>> The image couldn\\'t be resized: ', img.shape)\n",
    "            img = np.zeros((new_size, new_size, ch), dtype=np.uint8)\n",
    "            \n",
    "    return img\n",
    "\n",
    "def save_feature(img, name, is_car=True, new_size=None):\n",
    "    img = resize(img, new_size)\n",
    "    if (is_car):\n",
    "        path = '{0:s}\\\\\\{1:s}'.format(feature_car_path,name)\n",
    "    else:\n",
    "        path = '{0:s}\\\\\\{1:s}'.format(feature_ncar_path,name)\n",
    "    cv2.imwrite(path, cv2.cvtColor(img, cv2.COLOR_RGB2BGR))\n",
    "\n",
    "def read_img(file):\n",
    "    img = cv2.imread(file)\n",
    "    img = cv2.cvtColor(img,cv2.COLOR_BGR2RGB)\n",
    "    return img"
   ]
  },
  {
   "cell_type": "code",
   "execution_count": 43,
   "metadata": {},
   "outputs": [
    {
     "name": "stdout",
     "output_type": "stream",
     "text": [
      ">> 2870/10\n",
      ">> Done!\n"
     ]
    }
   ],
   "source": [
    "dimens = [24, 32, 48, 64, 96, 120, 144]\n",
    "new_size = 64\n",
    "count = 0\n",
    "for frame in frames:\n",
    "    img = read_img(frame)\n",
    "    cropped = img[400:, 0:img.shape[1]//2]\n",
    "    rows, cols, ch = cropped.shape\n",
    "    for dimen in dimens:\n",
    "        cnt = 0\n",
    "        while(cnt < 10):\n",
    "            cnt+=1\n",
    "            count+=1\n",
    "            name = '{0:0>5d}.jpg'.format(count)\n",
    "            off_row = random.randint(0, rows-dimen)\n",
    "            off_col = random.randint(0, cols-dimen)\n",
    "            save_feature(cropped[off_row:off_row+dimen, off_col:off_col+dimen], name, is_car=False, new_size=new_size)\n",
    "            \n",
    "            stdout.write('\\r>> {0:d}/{1:d}'.format(count, cnt))\n",
    "            stdout.flush()\n",
    "            \n",
    "print('\\n>> Done!')\n",
    "    "
   ]
  }
 ],
 "metadata": {
  "kernelspec": {
   "display_name": "Python 3",
   "language": "python",
   "name": "python3"
  },
  "language_info": {
   "codemirror_mode": {
    "name": "ipython",
    "version": 3
   },
   "file_extension": ".py",
   "mimetype": "text/x-python",
   "name": "python",
   "nbconvert_exporter": "python",
   "pygments_lexer": "ipython3",
   "version": "3.5.4"
  }
 },
 "nbformat": 4,
 "nbformat_minor": 2
}
